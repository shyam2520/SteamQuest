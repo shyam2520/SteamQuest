{
 "cells": [
  {
   "cell_type": "code",
   "execution_count": 1,
   "metadata": {},
   "outputs": [],
   "source": [
    "import scipy.stats as sci # do a bit more math\n",
    "\n",
    "from datetime import datetime # make working with dates 1000x easier \n",
    "import time # become time lords\n",
    "import random # create random numbers (probably not needed)"
   ]
  },
  {
   "cell_type": "code",
   "execution_count": 2,
   "metadata": {},
   "outputs": [],
   "source": [
    " import pandas as pd \n",
    "import numpy as np \n",
    "import matplotlib.pyplot as plt\n",
    "import requests # make http requests\n",
    "import json # make sense of what the requests return\n",
    "import pickle "
   ]
  },
  {
   "cell_type": "code",
   "execution_count": 3,
   "metadata": {
    "tags": []
   },
   "outputs": [
    {
     "name": "stdout",
     "output_type": "stream",
     "text": [
      "jupyter notebook in vs code IDE\n"
     ]
    }
   ],
   "source": [
    "print('jupyter notebook in vs code IDE')"
   ]
  },
  {
   "cell_type": "code",
   "execution_count": 13,
   "metadata": {
    "tags": []
   },
   "outputs": [
    {
     "name": "stdout",
     "output_type": "stream",
     "text": [
      "356\n",
      "Items 0 out of 356 code: 200\n",
      "Items 100 out of 356 code: 200\n",
      "Items 200 out of 356 code: 200\n",
      "Items 300 out of 356 code: 200\n",
      "Items 400 out of 356 code: 200\n"
     ]
    }
   ],
   "source": [
    "cookie={'cookie':'76561198989562427%7C%7C4901F0D800D00ADF1DDF17B8D2702FE62A4CC9A1'}\n",
    "\n",
    "gameList = ['578080']\n",
    "for gameID in gameList:\n",
    "    allItemNames = []\n",
    "    \n",
    "    # find total number items\n",
    "    allItemsGet = requests.get('https://steamcommunity.com/market/search/render/?search_descriptions=0&sort_column=default&sort_dir=desc&appid='+gameID+'&norender=1&count=100', cookies=cookie)  # get page\n",
    "    allItems = allItemsGet.content # get page conterint\n",
    "    # print(allItems)\n",
    "    allItems = json.loads(allItems) # convert to JSON\n",
    "    # print(allItems)\n",
    "    \n",
    "    totalItems = allItems['total_count'] # get total count\n",
    "    print(totalItems)\n",
    "    for currPos in range(0,totalItems+100,100): # loop through all items\n",
    "        time.sleep(random.uniform(0.5, 2.5)) # you cant make requests too quickly or steam gets mad\n",
    "        \n",
    "    # get item name of each\n",
    "        allItemsGet = requests.get('https://steamcommunity.com/market/search/render/?start='+str(currPos)+'&count=100&search_descriptions=0&sort_column=default&sort_dir=desc&appid='+gameID+'&norender=1&count=5000', cookies=cookie) \n",
    "        print('Items '+str(currPos)+' out of '+str(totalItems)+' code: '+str(allItemsGet.status_code)) # reassure us the code is running and we are getting good returns (code 200)\n",
    "        \n",
    "        allItems = allItemsGet.content\n",
    "        allItems = json.loads(allItems)\n",
    "        allItems = allItems['results']\n",
    "        for currItem in allItems: \n",
    "            allItemNames.append(currItem['hash_name']) # save the names\n"
   ]
  },
  {
   "cell_type": "code",
   "execution_count": 5,
   "metadata": {
    "tags": []
   },
   "outputs": [
    {
     "name": "stdout",
     "output_type": "stream",
     "text": [
      "Items 0 out of 356 code: 200\n",
      "Items 100 out of 356 code: 200\n",
      "Items 200 out of 356 code: 200\n",
      "Items 300 out of 356 code: 200\n",
      "Items 400 out of 356 code: 200\n"
     ]
    }
   ],
   "source": []
  },
  {
   "cell_type": "code",
   "execution_count": 14,
   "metadata": {},
   "outputs": [],
   "source": [
    " as file: # change the text file name to whatever you want\n",
    "    pickle.dump(allItemNames, file)"
   ]
  },
  {
   "cell_type": "code",
   "execution_count": 15,
   "metadata": {
    "tags": []
   },
   "outputs": [
    {
     "name": "stdout",
     "output_type": "stream",
     "text": [
      "['GOLD RUSH SET', 'Tracksuit Top (Yellow)', 'ZEST SET(MALE)', 'Shirt (White)', 'Rugged (Beige) - Crossbow', 'Woven Sun Hat', 'Dirty Long Sleeved T-shirt', 'Desert Digital - P92', 'Mandarin Jacket (Black)', 'Cargo Pants (Blue)', 'Zest Checkered Skirt', 'Wide Pants (Red)', '\"Baby Bear\" Face Shirt', 'Baggy Pants (Black)', 'VK Varsity Jacket', 'Urban Padded Jacket', 'Gunsmith\\xa0Crimson - AKM', 'Biker Pants (Black)', 'Leather Hoodie (White)', 'Floral Retro Jacket', 'Combat Pants (White)', 'Leather \"Skyrocket\" Jacket', 'Tick Tock - QBZ', 'Sleeveless Turtleneck (Red)', 'VK Jeans', 'Camo Tank Top (Red)', 'PGC 2019 Braces and Smartwatch', '[BATTLESTAT] Industrial Security - AKM', 'Turquoise Delight - P1911', 'Desert Digital - Sawed-Off', 'Tank Top (Charcoal)', 'PGC 2019 Headgear', 'Zest Loafers with Socks', 'PGC 2019 Parachute', 'Checkered Shirt (Coral)', \"PLAYERUNKNOWN's Bandana\", 'Camo Padded Jacket', 'VENETIAN CRATE', 'Silver Plate - SCAR-L', 'Silver Plate - DP-28', 'MILITARY UNIFORM SET(MALE)', 'Patrol Cap (Brown)', 'Lazy Sunday Sweatpants', 'Slip-ons (Gray)', 'Desert Digital - Micro UZI', 'Raglan T-shirt (Red-White)', 'INSTRUCTOR SET', 'Dress Shoes (Black)', 'Trifecta - Micro UZI', 'Biker Pants (Gray)', 'VAN HELSING SET', 'Retro Polo Shirt', 'TRACKSUIT SET (YELLOW)', 'Born to Survive Shorts', 'Sleeveless Turtleneck (Gray)', 'Gunsmith\\xa0Cobalt - P1911', 'Punk Glasses', 'Twitch Prime Balaclava', 'VK SET', 'VIKENDI ELITE ATTENDANT SET', 'Desert Digital - M416', 'Gold Plate - SKS', 'Twitch Prime Boots', 'Gold Plate - AKM', 'SURVIVOR CRATE', 'Desert Digital - Mini14', 'Pleated Mini-skirt (Blue)', 'Turquoise Delight - M16A4', 'GAMESCOM INVITATIONAL CRATE', 'Military Boots (Black)', 'Gold Plate - Groza', 'EARLY BIRD KEY', 'Fringed Hotpants', 'Vintage Baseball Cap (White)', 'Desert Digital - Kar98k', 'Aviator Goggles', 'Faux Leather Jacket', 'Sweater and Dress Shirt (Beige)', 'Skinny Jeans (Khaki)', 'IVORY SCHOOL UNIFORM SET (MALE)', 'Gunsmith Crimson - Win94', 'Tracksuit Pants (Light Blue)', 'Hotpants (Blue)', 'Military Skirt (Black)', 'Bloody Combat Pants', 'Dirty Tank Top (White)', 'Paddy Cap', 'Beanie (Gray)', 'Checkered Jacket', 'Silver Plate - R1895', 'Desert Digital - P18C', 'Combat Pants (Black)', 'DESPERADO CRATE', 'Baggy Pants (Brown)', 'TUXEDO SET (MALE)', 'School Shirt', 'Desert Shemagh', 'Checked Shirt (Red)', 'Rugged (Beige) - SKS', 'ZEST SET(FEMALE)', 'Long Sleeved Leather Shirt', 'VK Sneakers', 'Denim Shirt with Necktie', 'School Jacket', 'Combat Pants (Blue)', 'Military Shirt (Gray)', 'Denim Bootcut Pants', 'Floral Shirt (Black)', 'PGC 2019 Backpack (Level 2)', 'Tick Tock - M416', 'School Skirt', 'Toxic - S1897', 'Doomsday Hoodie', 'Kicks (Red)', 'Camo Cap', 'Pilot Pants (Beige)', 'Turquoise Delight - Kar98k', 'Floral Shirt', 'Striped Slippers (Pink)', 'Rugged (Orange) - AKM', 'School Shirt (Open)', 'Long Sleeved T-shirt (Black)', 'PGC 2019 Goggles', 'Jungle Digital - SKS', 'PIONEER CRATE', 'Pan of Judgement', 'Leather Bootcut Pants', 'Vintage Aviator Goggles', 'WEAPON SKIN KEY', 'PGC 2019 Sneakers', 'Striped T-shirt (Pink)', 'Vintage Polo Shirt', 'Silver Plate - S12K', 'Rugged (Orange) - UMP45', 'Aviator Sunglasses', 'Suit Pants (Gray)', 'BIKER CRATE', 'TWITCH PRIME SET', 'Cloth Mask (Leopard)', 'Rugged (Beige) - M16A4', 'BROWN HAT RANGERS SET', 'AVIATOR KEY', 'Horn-rimmed Glasses (Black)', 'Mandarin Jacket (Blue)', 'Sleeveless Turtleneck (Gray Striped)', 'Cargo Pants (Beige)', 'Rimless Sunglasses', 'Long Sleeved T-shirt (Red)', 'EAST ERANGEL POLICE CRATE', 'Silver Plate - AUG', 'Camo Combat Pants', 'PLAYERUNKNOWN SET', 'Gold Plate - AWM', 'Pleated Mini-skirt (Black)', 'Glory - AKM', 'BLACK SCHOOL UNIFORM SET (MALE)', 'Coat (Black)', 'Shirt (Gray)', 'Matched Shirt (Gray)', \"PLAYERUNKNOWN'S Trenchcoat\", 'Long Sleeved T-shirt (Light Blue)', 'Twitch Prime Shirt', 'Tracksuit Top', 'IVORY SCHOOL UNIFORM SET (FEMALE)', 'Hi-top Trainers (Brown)', 'Punk Boots', 'Pilot Pants (Black)', 'Gunsmith Cobalt - QBU', 'The Olive Branch - Pan', 'Telnyashka', 'Dress Shoes (Brown)', 'Loafers (Brown)', 'Coat (Red)', 'Jungle Digital - AWM', 'Bloody Shirt', 'FIRE IN THE HOLE SET', 'Leather Boots (Brown)', '\"PGC 2019\" Dacia', 'Gold Plate - S12K', 'Hi-top Canvas Sneakers (Pink)', 'FEVER CRATE', 'Zest Bootcut Pants', 'Violent Violet Jacket', 'Hi-top Trainers (Blue)', 'CONSTABLE SET', \"Constable's Pants\", 'Slacks (Black)', 'Leather Boots (Black)', 'Survivalist Slacks', 'Protective Glasses', 'Twitch Prime Combat Pants', 'AVIATOR SET', 'Shark Bite - M16A4', 'Padded Jacket (Gray)', 'Combat Gloves (Khaki)', 'Long Sleeved Turtleneck (Black)', 'Silver Plate - S1897', 'Gold Plate - S686', 'Padded Jacket (Beige)', 'Desert Digital - R45', 'School Shirt with Necktie', 'Cargo Pants (Khaki)', 'Skinny Jeans (Pink)', 'Beanie (Brown)', \"Constable's Hat\", 'Polo Shirt (Pink)', 'Silver Plate - Vector', 'WANDERER CRATE', 'East Erangel Police Shirt', 'Vikendi Elite Attendant Shoes', 'Silver Plate - Tommy Gun', 'Padded Jacket (Khaki)', 'PGC\\xa02019 - M416', 'Coat (Gray)', 'Vintage Gas Mask', 'Rugged (Beige) - S686', 'Gunsmith Cobalt - PP-19 Bizon', 'T-shirt (Red)', 'Gunsmith\\xa0Crimson - S12K', 'Polka Dot T-shirt', 'Gas Mask (Half)', 'Raglan T-Shirt (Blue-White)', 'Jungle Digital - M416', '\"Route Warrior\" Zima', 'Tracksuit Pants (Yellow)', 'Rugged (Orange) - Kar98k', 'Bloody Tank Top (White)', 'Bomber Jacket (Mustard)', 'MILITARY UNIFORM SET(FEMALE)', 'Vikendi Elite Attendant Uniform', 'Punk Knuckle Gloves (Red)', 'Lightbringer Shirt', 'Rugged (Beige) - Kar98k', 'Lucky Knight - SKS', 'Battle Belt', 'Zest Retro Jacket', 'Rugged (Orange) - SCAR-L', 'RAIDER CRATE', 'Boots (Gray)', 'Silver Plate - UMP45', 'Turquoise Delight - Tommy Gun', 'Leather Hoodie (Black)', 'Military Trousers (Black)', 'Zest Sunglasses', 'Cloth Mask (Checkered)', 'Fingerless Gloves (Camo)', 'Vikendi Elite Attendant Hat', 'Slacks (Blue)', 'Rugged (Orange) - M416', 'Slippers (Black)', 'Gas Mask (Full)', 'Ballistic Mask', 'TUXEDO SET (FEMALE)', 'Slacks (Purple)', 'Zest Turtleneck (White)', 'Suede Aviator Cap', 'BLACK SCHOOL UNIFORM SET (FEMALE)', 'T-shirt (Striped)', 'Tank Top (Gray)', 'Cowboy Hat (Brown)', 'Zest Silk Scarf', 'Suit Coat (Gray)', 'EQUINOX CRATE', 'VK Headphones', 'BLUE SCHOOL UNIFORM SET (MALE)', 'Jungle Digital - M16A4', 'WHITE HAT RANGERS SET', 'Gold Plate - Win94', 'Vintage Baseball Cap (Red-White)', 'Beanie (Black)', 'MILITIA CRATE', 'PGC 2019 Combat Pants', 'Floral Shirt (White)', 'Coat (Camel)', 'Target Practice - Pan', 'TRACKSUIT SET', 'Orange Shirt', 'Working Boots', 'Female Tuxedo Jacket (Purple)', 'Cowboy Hat (White)', 'AVIATOR CRATE', 'Striped Shirt (Gray)', 'VK Shirt', 'Tweed Vest (Gray)', 'Fingerless Gloves (Tan)', 'Combat Pants (Coral)', 'Long Sleeved T-shirt (Striped)', \"Constable's Coat\", 'Utility Belt (Brown)', 'Princess Power Tank Top', 'Golden Tracksuit Top', 'Desert Digital - Win94', 'Zest Denim Jacket', 'Bloody Sneakers', 'Golden Tracksuit Pants', 'Lucky Knight - M24', 'Tracksuit Pants', 'BLUE SCHOOL UNIFORM SET (FEMALE)', 'Sunglasses', 'Jungle Digital - P18C', 'Horn-rimmed Glasses (Brown)', 'Hi-top Trainers (Red)', 'Gold Plate  - Sawed-Off', 'Sneakers (Black)', 'Countryside Sneakers', 'Jungle Leggings', 'FALL 2018 CRATE', 'TRIUMPH CRATE', 'Cropped Corset', 'Striped Tank Top', 'Trifecta - P92', 'Jeans (Tan)', 'Reaper Mask', 'Gold Plate - UMP45', 'PGC 2019 Tactical Hoodie', 'Rugged (Beige) - S12K', 'Sleeveless Turtleneck (Black)', 'Long Sleeved Turtleneck (Burgundy)', 'Mini-skirt (Purple)', \"Constable's Gloves\", 'Patrol Cap (Gray)', 'Gold Plate - Vector', 'Pochinki Fellas Jersey']\n"
     ]
    }
   ],
   "source": [
    "for gameID in gameList:\n",
    "    # open file with all names\n",
    "    with open(gameID+'ItemNames.txt', \"rb\") as file:   # Unpickling\n",
    "       allItemNames = pickle.load(file)\n",
    "       print(allItemNames)\n",
    "    "
   ]
  },
  {
   "cell_type": "code",
   "execution_count": 8,
   "metadata": {
    "tags": []
   },
   "outputs": [
    {
     "name": "stdout",
     "output_type": "stream",
     "text": [
      "['Tracksuit Top (Yellow)', 'ZEST SET(MALE)', 'Shirt (White)', 'Dirty Long Sleeved T-shirt', 'Desert Digital - P92', 'Cargo Pants (Blue)', 'Zest Checkered Skirt', 'Wide Pants (Red)', 'Checked Shirt (White)']\n"
     ]
    }
   ],
   "source": [
    "    allItemsPD = pd.DataFrame(data=None,index=None,columns = ['itemName','initial','timeOnMarket','priceIncrease','priceAvg','priceSD','maxPrice','maxIdx','minPrice','minIdx','swing','volAvg','volSD','slope','rr'])\n",
    "    currRun=1\n",
    "\n",
    "    allItemNames=allItemNames[1:10]\n",
    "    print(allItemNames)\n"
   ]
  },
  {
   "cell_type": "code",
   "execution_count": 9,
   "metadata": {
    "tags": []
   },
   "outputs": [
    {
     "name": "stdout",
     "output_type": "stream",
     "text": [
      "578080\n",
      "<Response [400]>\n",
      "578080\n",
      "<Response [400]>\n",
      "578080\n",
      "<Response [400]>\n",
      "578080\n",
      "<Response [400]>\n",
      "578080\n",
      "<Response [400]>\n",
      "578080\n",
      "<Response [400]>\n",
      "578080\n",
      "<Response [400]>\n",
      "578080\n",
      "<Response [400]>\n",
      "578080\n",
      "<Response [400]>\n"
     ]
    }
   ],
   "source": [
    " for currItem in allItemNames: \n",
    "        currItemHTTP = currItem.replace(' ','%20')  # convert spaces to %20\n",
    "        currItemHTTP = currItemHTTP.replace('&','%26')  # convert & to %26\n",
    "        print(gameID)\n",
    "        item = requests.get('https://steamcommunity.com/market/pricehistory/?appid='+gameID+'&market_hash_name='+currItemHTTP,            cookies=cookie)  # get item data\n",
    "        print(item)\n",
    "        # print(item.content)"
   ]
  },
  {
   "cell_type": "code",
   "execution_count": 10,
   "metadata": {
    "tags": []
   },
   "outputs": [
    {
     "name": "stdout",
     "output_type": "stream",
     "text": [
      "<Response [400]>\n"
     ]
    }
   ],
   "source": [
    "print(requests.get('https://steamcommunity.com/market/pricehistory/?appid=730&market_hash_name=StatTrak%E2%84%A2%20M4A1-S%20|%20Hyper%20Beast%20(Minimal%20Wear)'))"
   ]
  },
  {
   "cell_type": "code",
   "execution_count": 11,
   "metadata": {},
   "outputs": [
    {
     "name": "stdout",
     "output_type": "stream",
     "text": [
      "Items 0 out of 356 code: 200\n",
      "Items 100 out of 356 code: 200\n",
      "Items 200 out of 356 code: 200\n",
      "Items 300 out of 356 code: 200\n",
      "Items 400 out of 356 code: 200\n",
      "1  out of  9 code: 200\n",
      "2  out of  9 code: 200\n",
      "3  out of  9 code: 200\n",
      "4  out of  9 code: 200\n",
      "5  out of  9 code: 200\n"
     ]
    },
    {
     "ename": "KeyboardInterrupt",
     "evalue": "",
     "output_type": "error",
     "traceback": [
      "\u001b[0;31m---------------------------------------------------------------------------\u001b[0m",
      "\u001b[0;31mKeyboardInterrupt\u001b[0m                         Traceback (most recent call last)",
      "\u001b[0;32m<ipython-input-11-f27a4fe23da5>\u001b[0m in \u001b[0;36m<module>\u001b[0;34m\u001b[0m\n\u001b[1;32m     79\u001b[0m         \u001b[0mcurrItemHTTP\u001b[0m \u001b[0;34m=\u001b[0m \u001b[0mcurrItemHTTP\u001b[0m\u001b[0;34m.\u001b[0m\u001b[0mreplace\u001b[0m\u001b[0;34m(\u001b[0m\u001b[0;34m'&'\u001b[0m\u001b[0;34m,\u001b[0m\u001b[0;34m'%26'\u001b[0m\u001b[0;34m)\u001b[0m\u001b[0;34m;\u001b[0m \u001b[0;31m# convert & to %26\u001b[0m\u001b[0;34m\u001b[0m\u001b[0;34m\u001b[0m\u001b[0m\n\u001b[1;32m     80\u001b[0m         \u001b[0;31m# I was lazy there's probably others but I catch this below\u001b[0m\u001b[0;34m\u001b[0m\u001b[0;34m\u001b[0m\u001b[0;34m\u001b[0m\u001b[0m\n\u001b[0;32m---> 81\u001b[0;31m         \u001b[0mitem\u001b[0m \u001b[0;34m=\u001b[0m \u001b[0mrequests\u001b[0m\u001b[0;34m.\u001b[0m\u001b[0mget\u001b[0m\u001b[0;34m(\u001b[0m\u001b[0;34m'https://steamcommunity.com/market/pricehistory/?appid='\u001b[0m\u001b[0;34m+\u001b[0m\u001b[0mgameID\u001b[0m\u001b[0;34m+\u001b[0m\u001b[0;34m'&market_hash_name='\u001b[0m\u001b[0;34m+\u001b[0m\u001b[0mcurrItemHTTP\u001b[0m\u001b[0;34m,\u001b[0m \u001b[0mcookies\u001b[0m\u001b[0;34m=\u001b[0m\u001b[0mcookie\u001b[0m\u001b[0;34m)\u001b[0m\u001b[0;34m;\u001b[0m \u001b[0;31m# get item data\u001b[0m\u001b[0;34m\u001b[0m\u001b[0;34m\u001b[0m\u001b[0m\n\u001b[0m\u001b[1;32m     82\u001b[0m         \u001b[0mprint\u001b[0m\u001b[0;34m(\u001b[0m\u001b[0mstr\u001b[0m\u001b[0;34m(\u001b[0m\u001b[0mcurrRun\u001b[0m\u001b[0;34m)\u001b[0m\u001b[0;34m,\u001b[0m\u001b[0;34m' out of '\u001b[0m\u001b[0;34m,\u001b[0m\u001b[0mstr\u001b[0m\u001b[0;34m(\u001b[0m\u001b[0mlen\u001b[0m\u001b[0;34m(\u001b[0m\u001b[0mallItemNames\u001b[0m\u001b[0;34m)\u001b[0m\u001b[0;34m)\u001b[0m\u001b[0;34m+\u001b[0m\u001b[0;34m' code: '\u001b[0m\u001b[0;34m+\u001b[0m\u001b[0mstr\u001b[0m\u001b[0;34m(\u001b[0m\u001b[0mitem\u001b[0m\u001b[0;34m.\u001b[0m\u001b[0mstatus_code\u001b[0m\u001b[0;34m)\u001b[0m\u001b[0;34m)\u001b[0m\u001b[0;34m;\u001b[0m\u001b[0;34m\u001b[0m\u001b[0;34m\u001b[0m\u001b[0m\n\u001b[1;32m     83\u001b[0m         \u001b[0mcurrRun\u001b[0m \u001b[0;34m+=\u001b[0m \u001b[0;36m1\u001b[0m\u001b[0;34m;\u001b[0m\u001b[0;34m\u001b[0m\u001b[0;34m\u001b[0m\u001b[0m\n",
      "\u001b[0;32m/usr/lib/python3/dist-packages/requests/api.py\u001b[0m in \u001b[0;36mget\u001b[0;34m(url, params, **kwargs)\u001b[0m\n\u001b[1;32m     73\u001b[0m \u001b[0;34m\u001b[0m\u001b[0m\n\u001b[1;32m     74\u001b[0m     \u001b[0mkwargs\u001b[0m\u001b[0;34m.\u001b[0m\u001b[0msetdefault\u001b[0m\u001b[0;34m(\u001b[0m\u001b[0;34m'allow_redirects'\u001b[0m\u001b[0;34m,\u001b[0m \u001b[0;32mTrue\u001b[0m\u001b[0;34m)\u001b[0m\u001b[0;34m\u001b[0m\u001b[0;34m\u001b[0m\u001b[0m\n\u001b[0;32m---> 75\u001b[0;31m     \u001b[0;32mreturn\u001b[0m \u001b[0mrequest\u001b[0m\u001b[0;34m(\u001b[0m\u001b[0;34m'get'\u001b[0m\u001b[0;34m,\u001b[0m \u001b[0murl\u001b[0m\u001b[0;34m,\u001b[0m \u001b[0mparams\u001b[0m\u001b[0;34m=\u001b[0m\u001b[0mparams\u001b[0m\u001b[0;34m,\u001b[0m \u001b[0;34m**\u001b[0m\u001b[0mkwargs\u001b[0m\u001b[0;34m)\u001b[0m\u001b[0;34m\u001b[0m\u001b[0;34m\u001b[0m\u001b[0m\n\u001b[0m\u001b[1;32m     76\u001b[0m \u001b[0;34m\u001b[0m\u001b[0m\n\u001b[1;32m     77\u001b[0m \u001b[0;34m\u001b[0m\u001b[0m\n",
      "\u001b[0;32m/usr/lib/python3/dist-packages/requests/api.py\u001b[0m in \u001b[0;36mrequest\u001b[0;34m(method, url, **kwargs)\u001b[0m\n\u001b[1;32m     58\u001b[0m     \u001b[0;31m# cases, and look like a memory leak in others.\u001b[0m\u001b[0;34m\u001b[0m\u001b[0;34m\u001b[0m\u001b[0;34m\u001b[0m\u001b[0m\n\u001b[1;32m     59\u001b[0m     \u001b[0;32mwith\u001b[0m \u001b[0msessions\u001b[0m\u001b[0;34m.\u001b[0m\u001b[0mSession\u001b[0m\u001b[0;34m(\u001b[0m\u001b[0;34m)\u001b[0m \u001b[0;32mas\u001b[0m \u001b[0msession\u001b[0m\u001b[0;34m:\u001b[0m\u001b[0;34m\u001b[0m\u001b[0;34m\u001b[0m\u001b[0m\n\u001b[0;32m---> 60\u001b[0;31m         \u001b[0;32mreturn\u001b[0m \u001b[0msession\u001b[0m\u001b[0;34m.\u001b[0m\u001b[0mrequest\u001b[0m\u001b[0;34m(\u001b[0m\u001b[0mmethod\u001b[0m\u001b[0;34m=\u001b[0m\u001b[0mmethod\u001b[0m\u001b[0;34m,\u001b[0m \u001b[0murl\u001b[0m\u001b[0;34m=\u001b[0m\u001b[0murl\u001b[0m\u001b[0;34m,\u001b[0m \u001b[0;34m**\u001b[0m\u001b[0mkwargs\u001b[0m\u001b[0;34m)\u001b[0m\u001b[0;34m\u001b[0m\u001b[0;34m\u001b[0m\u001b[0m\n\u001b[0m\u001b[1;32m     61\u001b[0m \u001b[0;34m\u001b[0m\u001b[0m\n\u001b[1;32m     62\u001b[0m \u001b[0;34m\u001b[0m\u001b[0m\n",
      "\u001b[0;32m/usr/lib/python3/dist-packages/requests/sessions.py\u001b[0m in \u001b[0;36mrequest\u001b[0;34m(self, method, url, params, data, headers, cookies, files, auth, timeout, allow_redirects, proxies, hooks, stream, verify, cert, json)\u001b[0m\n\u001b[1;32m    531\u001b[0m         }\n\u001b[1;32m    532\u001b[0m         \u001b[0msend_kwargs\u001b[0m\u001b[0;34m.\u001b[0m\u001b[0mupdate\u001b[0m\u001b[0;34m(\u001b[0m\u001b[0msettings\u001b[0m\u001b[0;34m)\u001b[0m\u001b[0;34m\u001b[0m\u001b[0;34m\u001b[0m\u001b[0m\n\u001b[0;32m--> 533\u001b[0;31m         \u001b[0mresp\u001b[0m \u001b[0;34m=\u001b[0m \u001b[0mself\u001b[0m\u001b[0;34m.\u001b[0m\u001b[0msend\u001b[0m\u001b[0;34m(\u001b[0m\u001b[0mprep\u001b[0m\u001b[0;34m,\u001b[0m \u001b[0;34m**\u001b[0m\u001b[0msend_kwargs\u001b[0m\u001b[0;34m)\u001b[0m\u001b[0;34m\u001b[0m\u001b[0;34m\u001b[0m\u001b[0m\n\u001b[0m\u001b[1;32m    534\u001b[0m \u001b[0;34m\u001b[0m\u001b[0m\n\u001b[1;32m    535\u001b[0m         \u001b[0;32mreturn\u001b[0m \u001b[0mresp\u001b[0m\u001b[0;34m\u001b[0m\u001b[0;34m\u001b[0m\u001b[0m\n",
      "\u001b[0;32m/usr/lib/python3/dist-packages/requests/sessions.py\u001b[0m in \u001b[0;36msend\u001b[0;34m(self, request, **kwargs)\u001b[0m\n\u001b[1;32m    644\u001b[0m \u001b[0;34m\u001b[0m\u001b[0m\n\u001b[1;32m    645\u001b[0m         \u001b[0;31m# Send the request\u001b[0m\u001b[0;34m\u001b[0m\u001b[0;34m\u001b[0m\u001b[0;34m\u001b[0m\u001b[0m\n\u001b[0;32m--> 646\u001b[0;31m         \u001b[0mr\u001b[0m \u001b[0;34m=\u001b[0m \u001b[0madapter\u001b[0m\u001b[0;34m.\u001b[0m\u001b[0msend\u001b[0m\u001b[0;34m(\u001b[0m\u001b[0mrequest\u001b[0m\u001b[0;34m,\u001b[0m \u001b[0;34m**\u001b[0m\u001b[0mkwargs\u001b[0m\u001b[0;34m)\u001b[0m\u001b[0;34m\u001b[0m\u001b[0;34m\u001b[0m\u001b[0m\n\u001b[0m\u001b[1;32m    647\u001b[0m \u001b[0;34m\u001b[0m\u001b[0m\n\u001b[1;32m    648\u001b[0m         \u001b[0;31m# Total elapsed time of the request (approximately)\u001b[0m\u001b[0;34m\u001b[0m\u001b[0;34m\u001b[0m\u001b[0;34m\u001b[0m\u001b[0m\n",
      "\u001b[0;32m/usr/lib/python3/dist-packages/requests/adapters.py\u001b[0m in \u001b[0;36msend\u001b[0;34m(self, request, stream, timeout, verify, cert, proxies)\u001b[0m\n\u001b[1;32m    437\u001b[0m         \u001b[0;32mtry\u001b[0m\u001b[0;34m:\u001b[0m\u001b[0;34m\u001b[0m\u001b[0;34m\u001b[0m\u001b[0m\n\u001b[1;32m    438\u001b[0m             \u001b[0;32mif\u001b[0m \u001b[0;32mnot\u001b[0m \u001b[0mchunked\u001b[0m\u001b[0;34m:\u001b[0m\u001b[0;34m\u001b[0m\u001b[0;34m\u001b[0m\u001b[0m\n\u001b[0;32m--> 439\u001b[0;31m                 resp = conn.urlopen(\n\u001b[0m\u001b[1;32m    440\u001b[0m                     \u001b[0mmethod\u001b[0m\u001b[0;34m=\u001b[0m\u001b[0mrequest\u001b[0m\u001b[0;34m.\u001b[0m\u001b[0mmethod\u001b[0m\u001b[0;34m,\u001b[0m\u001b[0;34m\u001b[0m\u001b[0;34m\u001b[0m\u001b[0m\n\u001b[1;32m    441\u001b[0m                     \u001b[0murl\u001b[0m\u001b[0;34m=\u001b[0m\u001b[0murl\u001b[0m\u001b[0;34m,\u001b[0m\u001b[0;34m\u001b[0m\u001b[0;34m\u001b[0m\u001b[0m\n",
      "\u001b[0;32m/usr/lib/python3/dist-packages/urllib3/connectionpool.py\u001b[0m in \u001b[0;36murlopen\u001b[0;34m(self, method, url, body, headers, retries, redirect, assert_same_host, timeout, pool_timeout, release_conn, chunked, body_pos, **response_kw)\u001b[0m\n\u001b[1;32m    663\u001b[0m \u001b[0;34m\u001b[0m\u001b[0m\n\u001b[1;32m    664\u001b[0m             \u001b[0;31m# Make the request on the httplib connection object.\u001b[0m\u001b[0;34m\u001b[0m\u001b[0;34m\u001b[0m\u001b[0;34m\u001b[0m\u001b[0m\n\u001b[0;32m--> 665\u001b[0;31m             httplib_response = self._make_request(\n\u001b[0m\u001b[1;32m    666\u001b[0m                 \u001b[0mconn\u001b[0m\u001b[0;34m,\u001b[0m\u001b[0;34m\u001b[0m\u001b[0;34m\u001b[0m\u001b[0m\n\u001b[1;32m    667\u001b[0m                 \u001b[0mmethod\u001b[0m\u001b[0;34m,\u001b[0m\u001b[0;34m\u001b[0m\u001b[0;34m\u001b[0m\u001b[0m\n",
      "\u001b[0;32m/usr/lib/python3/dist-packages/urllib3/connectionpool.py\u001b[0m in \u001b[0;36m_make_request\u001b[0;34m(self, conn, method, url, timeout, chunked, **httplib_request_kw)\u001b[0m\n\u001b[1;32m    419\u001b[0m                     \u001b[0;31m# Python 3 (including for exceptions like SystemExit).\u001b[0m\u001b[0;34m\u001b[0m\u001b[0;34m\u001b[0m\u001b[0;34m\u001b[0m\u001b[0m\n\u001b[1;32m    420\u001b[0m                     \u001b[0;31m# Otherwise it looks like a bug in the code.\u001b[0m\u001b[0;34m\u001b[0m\u001b[0;34m\u001b[0m\u001b[0;34m\u001b[0m\u001b[0m\n\u001b[0;32m--> 421\u001b[0;31m                     \u001b[0msix\u001b[0m\u001b[0;34m.\u001b[0m\u001b[0mraise_from\u001b[0m\u001b[0;34m(\u001b[0m\u001b[0me\u001b[0m\u001b[0;34m,\u001b[0m \u001b[0;32mNone\u001b[0m\u001b[0;34m)\u001b[0m\u001b[0;34m\u001b[0m\u001b[0;34m\u001b[0m\u001b[0m\n\u001b[0m\u001b[1;32m    422\u001b[0m         \u001b[0;32mexcept\u001b[0m \u001b[0;34m(\u001b[0m\u001b[0mSocketTimeout\u001b[0m\u001b[0;34m,\u001b[0m \u001b[0mBaseSSLError\u001b[0m\u001b[0;34m,\u001b[0m \u001b[0mSocketError\u001b[0m\u001b[0;34m)\u001b[0m \u001b[0;32mas\u001b[0m \u001b[0me\u001b[0m\u001b[0;34m:\u001b[0m\u001b[0;34m\u001b[0m\u001b[0;34m\u001b[0m\u001b[0m\n\u001b[1;32m    423\u001b[0m             \u001b[0mself\u001b[0m\u001b[0;34m.\u001b[0m\u001b[0m_raise_timeout\u001b[0m\u001b[0;34m(\u001b[0m\u001b[0merr\u001b[0m\u001b[0;34m=\u001b[0m\u001b[0me\u001b[0m\u001b[0;34m,\u001b[0m \u001b[0murl\u001b[0m\u001b[0;34m=\u001b[0m\u001b[0murl\u001b[0m\u001b[0;34m,\u001b[0m \u001b[0mtimeout_value\u001b[0m\u001b[0;34m=\u001b[0m\u001b[0mread_timeout\u001b[0m\u001b[0;34m)\u001b[0m\u001b[0;34m\u001b[0m\u001b[0;34m\u001b[0m\u001b[0m\n",
      "\u001b[0;32m/usr/lib/python3/dist-packages/six.py\u001b[0m in \u001b[0;36mraise_from\u001b[0;34m(value, from_value)\u001b[0m\n",
      "\u001b[0;32m/usr/lib/python3/dist-packages/urllib3/connectionpool.py\u001b[0m in \u001b[0;36m_make_request\u001b[0;34m(self, conn, method, url, timeout, chunked, **httplib_request_kw)\u001b[0m\n\u001b[1;32m    414\u001b[0m                 \u001b[0;31m# Python 3\u001b[0m\u001b[0;34m\u001b[0m\u001b[0;34m\u001b[0m\u001b[0;34m\u001b[0m\u001b[0m\n\u001b[1;32m    415\u001b[0m                 \u001b[0;32mtry\u001b[0m\u001b[0;34m:\u001b[0m\u001b[0;34m\u001b[0m\u001b[0;34m\u001b[0m\u001b[0m\n\u001b[0;32m--> 416\u001b[0;31m                     \u001b[0mhttplib_response\u001b[0m \u001b[0;34m=\u001b[0m \u001b[0mconn\u001b[0m\u001b[0;34m.\u001b[0m\u001b[0mgetresponse\u001b[0m\u001b[0;34m(\u001b[0m\u001b[0;34m)\u001b[0m\u001b[0;34m\u001b[0m\u001b[0;34m\u001b[0m\u001b[0m\n\u001b[0m\u001b[1;32m    417\u001b[0m                 \u001b[0;32mexcept\u001b[0m \u001b[0mBaseException\u001b[0m \u001b[0;32mas\u001b[0m \u001b[0me\u001b[0m\u001b[0;34m:\u001b[0m\u001b[0;34m\u001b[0m\u001b[0;34m\u001b[0m\u001b[0m\n\u001b[1;32m    418\u001b[0m                     \u001b[0;31m# Remove the TypeError from the exception chain in\u001b[0m\u001b[0;34m\u001b[0m\u001b[0;34m\u001b[0m\u001b[0;34m\u001b[0m\u001b[0m\n",
      "\u001b[0;32m/usr/lib/python3.8/http/client.py\u001b[0m in \u001b[0;36mgetresponse\u001b[0;34m(self)\u001b[0m\n\u001b[1;32m   1330\u001b[0m         \u001b[0;32mtry\u001b[0m\u001b[0;34m:\u001b[0m\u001b[0;34m\u001b[0m\u001b[0;34m\u001b[0m\u001b[0m\n\u001b[1;32m   1331\u001b[0m             \u001b[0;32mtry\u001b[0m\u001b[0;34m:\u001b[0m\u001b[0;34m\u001b[0m\u001b[0;34m\u001b[0m\u001b[0m\n\u001b[0;32m-> 1332\u001b[0;31m                 \u001b[0mresponse\u001b[0m\u001b[0;34m.\u001b[0m\u001b[0mbegin\u001b[0m\u001b[0;34m(\u001b[0m\u001b[0;34m)\u001b[0m\u001b[0;34m\u001b[0m\u001b[0;34m\u001b[0m\u001b[0m\n\u001b[0m\u001b[1;32m   1333\u001b[0m             \u001b[0;32mexcept\u001b[0m \u001b[0mConnectionError\u001b[0m\u001b[0;34m:\u001b[0m\u001b[0;34m\u001b[0m\u001b[0;34m\u001b[0m\u001b[0m\n\u001b[1;32m   1334\u001b[0m                 \u001b[0mself\u001b[0m\u001b[0;34m.\u001b[0m\u001b[0mclose\u001b[0m\u001b[0;34m(\u001b[0m\u001b[0;34m)\u001b[0m\u001b[0;34m\u001b[0m\u001b[0;34m\u001b[0m\u001b[0m\n",
      "\u001b[0;32m/usr/lib/python3.8/http/client.py\u001b[0m in \u001b[0;36mbegin\u001b[0;34m(self)\u001b[0m\n\u001b[1;32m    301\u001b[0m         \u001b[0;31m# read until we get a non-100 response\u001b[0m\u001b[0;34m\u001b[0m\u001b[0;34m\u001b[0m\u001b[0;34m\u001b[0m\u001b[0m\n\u001b[1;32m    302\u001b[0m         \u001b[0;32mwhile\u001b[0m \u001b[0;32mTrue\u001b[0m\u001b[0;34m:\u001b[0m\u001b[0;34m\u001b[0m\u001b[0;34m\u001b[0m\u001b[0m\n\u001b[0;32m--> 303\u001b[0;31m             \u001b[0mversion\u001b[0m\u001b[0;34m,\u001b[0m \u001b[0mstatus\u001b[0m\u001b[0;34m,\u001b[0m \u001b[0mreason\u001b[0m \u001b[0;34m=\u001b[0m \u001b[0mself\u001b[0m\u001b[0;34m.\u001b[0m\u001b[0m_read_status\u001b[0m\u001b[0;34m(\u001b[0m\u001b[0;34m)\u001b[0m\u001b[0;34m\u001b[0m\u001b[0;34m\u001b[0m\u001b[0m\n\u001b[0m\u001b[1;32m    304\u001b[0m             \u001b[0;32mif\u001b[0m \u001b[0mstatus\u001b[0m \u001b[0;34m!=\u001b[0m \u001b[0mCONTINUE\u001b[0m\u001b[0;34m:\u001b[0m\u001b[0;34m\u001b[0m\u001b[0;34m\u001b[0m\u001b[0m\n\u001b[1;32m    305\u001b[0m                 \u001b[0;32mbreak\u001b[0m\u001b[0;34m\u001b[0m\u001b[0;34m\u001b[0m\u001b[0m\n",
      "\u001b[0;32m/usr/lib/python3.8/http/client.py\u001b[0m in \u001b[0;36m_read_status\u001b[0;34m(self)\u001b[0m\n\u001b[1;32m    262\u001b[0m \u001b[0;34m\u001b[0m\u001b[0m\n\u001b[1;32m    263\u001b[0m     \u001b[0;32mdef\u001b[0m \u001b[0m_read_status\u001b[0m\u001b[0;34m(\u001b[0m\u001b[0mself\u001b[0m\u001b[0;34m)\u001b[0m\u001b[0;34m:\u001b[0m\u001b[0;34m\u001b[0m\u001b[0;34m\u001b[0m\u001b[0m\n\u001b[0;32m--> 264\u001b[0;31m         \u001b[0mline\u001b[0m \u001b[0;34m=\u001b[0m \u001b[0mstr\u001b[0m\u001b[0;34m(\u001b[0m\u001b[0mself\u001b[0m\u001b[0;34m.\u001b[0m\u001b[0mfp\u001b[0m\u001b[0;34m.\u001b[0m\u001b[0mreadline\u001b[0m\u001b[0;34m(\u001b[0m\u001b[0m_MAXLINE\u001b[0m \u001b[0;34m+\u001b[0m \u001b[0;36m1\u001b[0m\u001b[0;34m)\u001b[0m\u001b[0;34m,\u001b[0m \u001b[0;34m\"iso-8859-1\"\u001b[0m\u001b[0;34m)\u001b[0m\u001b[0;34m\u001b[0m\u001b[0;34m\u001b[0m\u001b[0m\n\u001b[0m\u001b[1;32m    265\u001b[0m         \u001b[0;32mif\u001b[0m \u001b[0mlen\u001b[0m\u001b[0;34m(\u001b[0m\u001b[0mline\u001b[0m\u001b[0;34m)\u001b[0m \u001b[0;34m>\u001b[0m \u001b[0m_MAXLINE\u001b[0m\u001b[0;34m:\u001b[0m\u001b[0;34m\u001b[0m\u001b[0;34m\u001b[0m\u001b[0m\n\u001b[1;32m    266\u001b[0m             \u001b[0;32mraise\u001b[0m \u001b[0mLineTooLong\u001b[0m\u001b[0;34m(\u001b[0m\u001b[0;34m\"status line\"\u001b[0m\u001b[0;34m)\u001b[0m\u001b[0;34m\u001b[0m\u001b[0;34m\u001b[0m\u001b[0m\n",
      "\u001b[0;32m/usr/lib/python3.8/socket.py\u001b[0m in \u001b[0;36mreadinto\u001b[0;34m(self, b)\u001b[0m\n\u001b[1;32m    667\u001b[0m         \u001b[0;32mwhile\u001b[0m \u001b[0;32mTrue\u001b[0m\u001b[0;34m:\u001b[0m\u001b[0;34m\u001b[0m\u001b[0;34m\u001b[0m\u001b[0m\n\u001b[1;32m    668\u001b[0m             \u001b[0;32mtry\u001b[0m\u001b[0;34m:\u001b[0m\u001b[0;34m\u001b[0m\u001b[0;34m\u001b[0m\u001b[0m\n\u001b[0;32m--> 669\u001b[0;31m                 \u001b[0;32mreturn\u001b[0m \u001b[0mself\u001b[0m\u001b[0;34m.\u001b[0m\u001b[0m_sock\u001b[0m\u001b[0;34m.\u001b[0m\u001b[0mrecv_into\u001b[0m\u001b[0;34m(\u001b[0m\u001b[0mb\u001b[0m\u001b[0;34m)\u001b[0m\u001b[0;34m\u001b[0m\u001b[0;34m\u001b[0m\u001b[0m\n\u001b[0m\u001b[1;32m    670\u001b[0m             \u001b[0;32mexcept\u001b[0m \u001b[0mtimeout\u001b[0m\u001b[0;34m:\u001b[0m\u001b[0;34m\u001b[0m\u001b[0;34m\u001b[0m\u001b[0m\n\u001b[1;32m    671\u001b[0m                 \u001b[0mself\u001b[0m\u001b[0;34m.\u001b[0m\u001b[0m_timeout_occurred\u001b[0m \u001b[0;34m=\u001b[0m \u001b[0;32mTrue\u001b[0m\u001b[0;34m\u001b[0m\u001b[0;34m\u001b[0m\u001b[0m\n",
      "\u001b[0;32m/usr/lib/python3.8/ssl.py\u001b[0m in \u001b[0;36mrecv_into\u001b[0;34m(self, buffer, nbytes, flags)\u001b[0m\n\u001b[1;32m   1239\u001b[0m                   \u001b[0;34m\"non-zero flags not allowed in calls to recv_into() on %s\"\u001b[0m \u001b[0;34m%\u001b[0m\u001b[0;34m\u001b[0m\u001b[0;34m\u001b[0m\u001b[0m\n\u001b[1;32m   1240\u001b[0m                   self.__class__)\n\u001b[0;32m-> 1241\u001b[0;31m             \u001b[0;32mreturn\u001b[0m \u001b[0mself\u001b[0m\u001b[0;34m.\u001b[0m\u001b[0mread\u001b[0m\u001b[0;34m(\u001b[0m\u001b[0mnbytes\u001b[0m\u001b[0;34m,\u001b[0m \u001b[0mbuffer\u001b[0m\u001b[0;34m)\u001b[0m\u001b[0;34m\u001b[0m\u001b[0;34m\u001b[0m\u001b[0m\n\u001b[0m\u001b[1;32m   1242\u001b[0m         \u001b[0;32melse\u001b[0m\u001b[0;34m:\u001b[0m\u001b[0;34m\u001b[0m\u001b[0;34m\u001b[0m\u001b[0m\n\u001b[1;32m   1243\u001b[0m             \u001b[0;32mreturn\u001b[0m \u001b[0msuper\u001b[0m\u001b[0;34m(\u001b[0m\u001b[0;34m)\u001b[0m\u001b[0;34m.\u001b[0m\u001b[0mrecv_into\u001b[0m\u001b[0;34m(\u001b[0m\u001b[0mbuffer\u001b[0m\u001b[0;34m,\u001b[0m \u001b[0mnbytes\u001b[0m\u001b[0;34m,\u001b[0m \u001b[0mflags\u001b[0m\u001b[0;34m)\u001b[0m\u001b[0;34m\u001b[0m\u001b[0;34m\u001b[0m\u001b[0m\n",
      "\u001b[0;32m/usr/lib/python3.8/ssl.py\u001b[0m in \u001b[0;36mread\u001b[0;34m(self, len, buffer)\u001b[0m\n\u001b[1;32m   1097\u001b[0m         \u001b[0;32mtry\u001b[0m\u001b[0;34m:\u001b[0m\u001b[0;34m\u001b[0m\u001b[0;34m\u001b[0m\u001b[0m\n\u001b[1;32m   1098\u001b[0m             \u001b[0;32mif\u001b[0m \u001b[0mbuffer\u001b[0m \u001b[0;32mis\u001b[0m \u001b[0;32mnot\u001b[0m \u001b[0;32mNone\u001b[0m\u001b[0;34m:\u001b[0m\u001b[0;34m\u001b[0m\u001b[0;34m\u001b[0m\u001b[0m\n\u001b[0;32m-> 1099\u001b[0;31m                 \u001b[0;32mreturn\u001b[0m \u001b[0mself\u001b[0m\u001b[0;34m.\u001b[0m\u001b[0m_sslobj\u001b[0m\u001b[0;34m.\u001b[0m\u001b[0mread\u001b[0m\u001b[0;34m(\u001b[0m\u001b[0mlen\u001b[0m\u001b[0;34m,\u001b[0m \u001b[0mbuffer\u001b[0m\u001b[0;34m)\u001b[0m\u001b[0;34m\u001b[0m\u001b[0;34m\u001b[0m\u001b[0m\n\u001b[0m\u001b[1;32m   1100\u001b[0m             \u001b[0;32melse\u001b[0m\u001b[0;34m:\u001b[0m\u001b[0;34m\u001b[0m\u001b[0;34m\u001b[0m\u001b[0m\n\u001b[1;32m   1101\u001b[0m                 \u001b[0;32mreturn\u001b[0m \u001b[0mself\u001b[0m\u001b[0;34m.\u001b[0m\u001b[0m_sslobj\u001b[0m\u001b[0;34m.\u001b[0m\u001b[0mread\u001b[0m\u001b[0;34m(\u001b[0m\u001b[0mlen\u001b[0m\u001b[0;34m)\u001b[0m\u001b[0;34m\u001b[0m\u001b[0;34m\u001b[0m\u001b[0m\n",
      "\u001b[0;31mKeyboardInterrupt\u001b[0m: "
     ]
    }
   ],
   "source": [
    "import requests # make http requests\n",
    "import json # make sense of what the requests return\n",
    "import pickle # save our data to our computer\n",
    "\n",
    "import pandas as pd # structure out data\n",
    "import numpy as np # do a bit of math\n",
    "import scipy.stats as sci # do a bit more math\n",
    "\n",
    "from datetime import datetime # make working with dates 1000x easier \n",
    "import time # become time lords\n",
    "import random # create random numbers (probably not needed)\n",
    "\n",
    "# Login to steam on your browser and get your steam login cookie \n",
    "# For Chrome, settings > advanced > content settings > cookies > see all cookies and site data > find steamcommunity.com > find \"steamLoginSecure\" > copy the \"Content\" string and paste below\n",
    "cookie = {'steamLoginSecure': '76561198989562427%7C%7C8B01D564F71267E7AFF6E46B305CF5426851F331'};\n",
    "\n",
    "# gameList as a string or list of strings \n",
    "# rust, 252490, dota2, 570; CSGO, 730; pubg, 578080; TF2, 440; \n",
    "# you can find the app id by going to the community market and finding the appid=##### in the URL\n",
    "gameList = ['578080'];\n",
    "\n",
    "for gameID in gameList:\n",
    "    # itialize\n",
    "    allItemNames = [];\n",
    "    \n",
    "    # find total number items\n",
    "    allItemsGet = requests.get('https://steamcommunity.com/market/search/render/?search_descriptions=0&sort_column=default&sort_dir=desc&appid='+gameID+'&norender=1&count=100', cookies=cookie); # get page\n",
    "    allItems = allItemsGet.content; # get page content\n",
    "    \n",
    "    allItems = json.loads(allItems); # convert to JSON\n",
    "    totalItems = allItems['total_count']; # get total count\n",
    "    \n",
    "    \n",
    "    # you can only get 100 items at a time (despite putting in count= >100)\n",
    "    # so we have to loop through in batches of 100 to get every single item name by specifying the start position\n",
    "    for currPos in range(0,totalItems+100,100): # loop through all items\n",
    "        time.sleep(random.uniform(0.5, 2.5)) # you cant make requests too quickly or steam gets mad\n",
    "        \n",
    "    # get item name of each\n",
    "        allItemsGet = requests.get('https://steamcommunity.com/market/search/render/?start='+str(currPos)+'&count=100&search_descriptions=0&sort_column=default&sort_dir=desc&appid='+gameID+'&norender=1&count=5000', cookies=cookie);\n",
    "        print('Items '+str(currPos)+' out of '+str(totalItems)+' code: '+str(allItemsGet.status_code)) # reassure us the code is running and we are getting good returns (code 200)\n",
    "        \n",
    "        allItems = allItemsGet.content;\n",
    "        allItems = json.loads(allItems);\n",
    "        allItems = allItems['results'];\n",
    "        for currItem in allItems: \n",
    "            allItemNames.append(currItem['hash_name']) # save the names\n",
    "            \n",
    "        \n",
    "    # remove dupes by converting from list to set and back again\n",
    "    allItemNames = list(set(allItemNames))\n",
    "    \n",
    "    # Save all the name so we don't have to do this step anymore\n",
    "    # use pickle to save all the names so i dont have to keep running above code\n",
    "    with open(gameID+'ItemNames.txt', \"wb\") as file: # change the text file name to whatever you want\n",
    "        pickle.dump(allItemNames, file)\n",
    "    \n",
    "\n",
    "    \"\"\"\n",
    "    ~*~*~*~*~*~*~*~*~*~*~*~\n",
    "    \n",
    "    Step 2: Data collection\n",
    "    \n",
    "    ~*~*~*~*~*~*~*~*~*~*~*~\n",
    "    don't forget to import libraries if you start here\n",
    "    \"\"\"\n",
    "for gameID in gameList:\n",
    "    # open file with all names\n",
    "    with open(gameID+'ItemNames.txt', \"rb\") as file:   # Unpickling\n",
    "       allItemNames = pickle.load(file)\n",
    "    \n",
    "    # intialize our Panda's dataframe with the data we want from each item\n",
    "    allItemsPD = pd.DataFrame(data=None,index=None,columns = ['itemName','initial','timeOnMarket','priceIncrease','priceAvg','priceSD','maxPrice','maxIdx','minPrice','minIdx','swing','volAvg','volSD','slope','rr']);\n",
    "    currRun = 1; # to keep track of the program running\n",
    "    allItemNames=allItemNames[1:10]\n",
    "    for currItem in allItemNames: # go through all item names\n",
    "        # need to encode symbols into ASCII for http (https://www.w3schools.com/tags/ref_urlencode.asp)\n",
    "        currItemHTTP = currItem.replace(' ','%20'); # convert spaces to %20\n",
    "        currItemHTTP = currItemHTTP.replace('&','%26'); # convert & to %26\n",
    "        # I was lazy there's probably others but I catch this below\n",
    "        item = requests.get('https://steamcommunity.com/market/pricehistory/?appid='+gameID+'&market_hash_name='+currItemHTTP, cookies=cookie); # get item data\n",
    "        print(str(currRun),' out of ',str(len(allItemNames))+' code: '+str(item.status_code));\n",
    "        currRun += 1;"
   ]
  },
  {
   "cell_type": "code",
   "execution_count": null,
   "metadata": {},
   "outputs": [],
   "source": []
  }
 ],
 "metadata": {
  "kernelspec": {
   "display_name": "Python 3",
   "language": "python",
   "name": "python3"
  },
  "language_info": {
   "codemirror_mode": {
    "name": "ipython",
    "version": 3
   },
   "file_extension": ".py",
   "mimetype": "text/x-python",
   "name": "python",
   "nbconvert_exporter": "python",
   "pygments_lexer": "ipython3",
   "version": "3.8.2"
  }
 },
 "nbformat": 4,
 "nbformat_minor": 2
}