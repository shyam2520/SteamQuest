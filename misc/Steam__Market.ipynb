{
  "nbformat": 4,
  "nbformat_minor": 0,
  "metadata": {
    "colab": {
      "name": "Steam _Market",
      "provenance": [],
      "collapsed_sections": []
    },
    "kernelspec": {
      "name": "python3",
      "display_name": "Python 3"
    }
  },
  "cells": [
    {
      "cell_type": "code",
      "metadata": {
        "id": "Brs91s9jtSXW",
        "colab_type": "code",
        "colab": {}
      },
      "source": [
        "import numpy as np\n",
        "import matplotlib.pyplot as plt\n",
        "import pandas as pd\n",
        "import math "
      ],
      "execution_count": 444,
      "outputs": []
    },
    {
      "cell_type": "code",
      "metadata": {
        "id": "vdaQlBiuE0Nm",
        "colab_type": "code",
        "colab": {}
      },
      "source": [
        "item_training_data=pd.read_csv('/content/The Checked Shirt (White).csv')"
      ],
      "execution_count": 445,
      "outputs": []
    },
    {
      "cell_type": "code",
      "metadata": {
        "id": "N0DUREKeFX9Q",
        "colab_type": "code",
        "colab": {
          "base_uri": "https://localhost:8080/",
          "height": 204
        },
        "outputId": "351c9fcf-8f89-4be2-94d5-e5d86ab56831"
      },
      "source": [
        "item_training_data.head()"
      ],
      "execution_count": 446,
      "outputs": [
        {
          "output_type": "execute_result",
          "data": {
            "text/html": [
              "<div>\n",
              "<style scoped>\n",
              "    .dataframe tbody tr th:only-of-type {\n",
              "        vertical-align: middle;\n",
              "    }\n",
              "\n",
              "    .dataframe tbody tr th {\n",
              "        vertical-align: top;\n",
              "    }\n",
              "\n",
              "    .dataframe thead th {\n",
              "        text-align: right;\n",
              "    }\n",
              "</style>\n",
              "<table border=\"1\" class=\"dataframe\">\n",
              "  <thead>\n",
              "    <tr style=\"text-align: right;\">\n",
              "      <th></th>\n",
              "      <th>Unnamed: 0</th>\n",
              "      <th>Date</th>\n",
              "      <th>Price</th>\n",
              "      <th>Volume</th>\n",
              "    </tr>\n",
              "  </thead>\n",
              "  <tbody>\n",
              "    <tr>\n",
              "      <th>0</th>\n",
              "      <td>0</td>\n",
              "      <td>2017-08-03</td>\n",
              "      <td>5.001</td>\n",
              "      <td>354</td>\n",
              "    </tr>\n",
              "    <tr>\n",
              "      <th>1</th>\n",
              "      <td>1</td>\n",
              "      <td>2017-08-04</td>\n",
              "      <td>7.252</td>\n",
              "      <td>174</td>\n",
              "    </tr>\n",
              "    <tr>\n",
              "      <th>2</th>\n",
              "      <td>2</td>\n",
              "      <td>2017-08-05</td>\n",
              "      <td>8.038</td>\n",
              "      <td>134</td>\n",
              "    </tr>\n",
              "    <tr>\n",
              "      <th>3</th>\n",
              "      <td>3</td>\n",
              "      <td>2017-08-06</td>\n",
              "      <td>8.875</td>\n",
              "      <td>97</td>\n",
              "    </tr>\n",
              "    <tr>\n",
              "      <th>4</th>\n",
              "      <td>4</td>\n",
              "      <td>2017-08-07</td>\n",
              "      <td>4.792</td>\n",
              "      <td>215</td>\n",
              "    </tr>\n",
              "  </tbody>\n",
              "</table>\n",
              "</div>"
            ],
            "text/plain": [
              "   Unnamed: 0        Date  Price  Volume\n",
              "0           0  2017-08-03  5.001     354\n",
              "1           1  2017-08-04  7.252     174\n",
              "2           2  2017-08-05  8.038     134\n",
              "3           3  2017-08-06  8.875      97\n",
              "4           4  2017-08-07  4.792     215"
            ]
          },
          "metadata": {
            "tags": []
          },
          "execution_count": 446
        }
      ]
    },
    {
      "cell_type": "code",
      "metadata": {
        "id": "J1w7u-OrFc_J",
        "colab_type": "code",
        "colab": {}
      },
      "source": [
        "Train_Split=math.floor(0.8* len(item_training_data))\n",
        "item_training_process=item_training_data.iloc[:Train_Split,2:].values"
      ],
      "execution_count": 447,
      "outputs": []
    },
    {
      "cell_type": "code",
      "metadata": {
        "id": "UQKMcSbbHD5I",
        "colab_type": "code",
        "colab": {
          "base_uri": "https://localhost:8080/",
          "height": 136
        },
        "outputId": "f4f714e8-691f-43ac-bddf-437c9f4120a0"
      },
      "source": [
        "item_training_process"
      ],
      "execution_count": 448,
      "outputs": [
        {
          "output_type": "execute_result",
          "data": {
            "text/plain": [
              "array([[5.001e+00, 3.540e+02],\n",
              "       [7.252e+00, 1.740e+02],\n",
              "       [8.038e+00, 1.340e+02],\n",
              "       ...,\n",
              "       [7.900e-02, 2.600e+01],\n",
              "       [7.000e-02, 4.200e+01],\n",
              "       [6.400e-02, 5.400e+01]])"
            ]
          },
          "metadata": {
            "tags": []
          },
          "execution_count": 448
        }
      ]
    },
    {
      "cell_type": "code",
      "metadata": {
        "id": "AxTEYBlbHE9K",
        "colab_type": "code",
        "colab": {
          "base_uri": "https://localhost:8080/",
          "height": 34
        },
        "outputId": "1a5950d7-6b5b-4297-ab00-94b4d2df397f"
      },
      "source": [
        "from sklearn.preprocessing import MinMaxScaler\n",
        "scaler = MinMaxScaler(feature_range = (0, 1))\n",
        "item_training_data = scaler.fit_transform(item_training_process)\n",
        "len(item_training_data)"
      ],
      "execution_count": 449,
      "outputs": [
        {
          "output_type": "execute_result",
          "data": {
            "text/plain": [
              "847"
            ]
          },
          "metadata": {
            "tags": []
          },
          "execution_count": 449
        }
      ]
    },
    {
      "cell_type": "code",
      "metadata": {
        "id": "-4JjkYfhP7ot",
        "colab_type": "code",
        "colab": {}
      },
      "source": [
        "feature_set=[]\n",
        "labels=[]\n",
        "for i in range(40,len(item_training_data)):\n",
        "  feature_set.append(item_training_data[i-40:i,:])\n",
        "  labels.append(item_training_data[i,0])\n",
        "  "
      ],
      "execution_count": 450,
      "outputs": []
    },
    {
      "cell_type": "code",
      "metadata": {
        "id": "Bf_-Y12hkv63",
        "colab_type": "code",
        "colab": {
          "base_uri": "https://localhost:8080/",
          "height": 51
        },
        "outputId": "e4a80c50-de5c-471b-f397-6773c554ea4f"
      },
      "source": [
        "features_set,labels=np.array(feature_set),np.array(labels)\n",
        "print(features_set.shape)\n",
        "print(labels.shape)"
      ],
      "execution_count": 451,
      "outputs": [
        {
          "output_type": "stream",
          "text": [
            "(807, 40, 2)\n",
            "(807,)\n"
          ],
          "name": "stdout"
        }
      ]
    },
    {
      "cell_type": "code",
      "metadata": {
        "id": "pMm_xcRGM1i1",
        "colab_type": "code",
        "colab": {}
      },
      "source": [
        "features_set = np.reshape(features_set, (features_set.shape[0], features_set.shape[1], 2))\n"
      ],
      "execution_count": 452,
      "outputs": []
    },
    {
      "cell_type": "code",
      "metadata": {
        "id": "xW8YSnaxRwO7",
        "colab_type": "code",
        "colab": {}
      },
      "source": [
        "from keras.models import Sequential\n",
        "from keras.layers import Dense\n",
        "from keras.layers import LSTM\n",
        "from keras.layers import Dropout"
      ],
      "execution_count": 453,
      "outputs": []
    },
    {
      "cell_type": "code",
      "metadata": {
        "id": "uXx_Nl2HSg21",
        "colab_type": "code",
        "colab": {}
      },
      "source": [
        "model = Sequential()\n"
      ],
      "execution_count": 454,
      "outputs": []
    },
    {
      "cell_type": "code",
      "metadata": {
        "id": "J0tnJAFESj8Q",
        "colab_type": "code",
        "colab": {}
      },
      "source": [
        "model.add(LSTM(units=50, return_sequences=True, input_shape=(features_set.shape[1], 2)))\n"
      ],
      "execution_count": 455,
      "outputs": []
    },
    {
      "cell_type": "code",
      "metadata": {
        "id": "yW6_qPgxSl7_",
        "colab_type": "code",
        "colab": {}
      },
      "source": [
        "model.add(Dropout(0.2))\n",
        "\n",
        "model.add(LSTM(units=50, return_sequences=True))\n",
        "model.add(Dropout(0.2))\n",
        "\n",
        "model.add(LSTM(units=50, return_sequences=True))\n",
        "model.add(Dropout(0.2))\n",
        "\n",
        "model.add(LSTM(units=50))\n",
        "model.add(Dropout(0.2))"
      ],
      "execution_count": 456,
      "outputs": []
    },
    {
      "cell_type": "code",
      "metadata": {
        "id": "My2iDiMwSpmY",
        "colab_type": "code",
        "colab": {}
      },
      "source": [
        "model.add(Dense(units = 1))\n"
      ],
      "execution_count": 457,
      "outputs": []
    },
    {
      "cell_type": "code",
      "metadata": {
        "id": "TGvcfPQaStCB",
        "colab_type": "code",
        "colab": {}
      },
      "source": [
        "model.compile(optimizer = 'adam', loss = 'mean_squared_error')\n"
      ],
      "execution_count": 458,
      "outputs": []
    },
    {
      "cell_type": "code",
      "metadata": {
        "id": "PEZ1PHZ6Svqs",
        "colab_type": "code",
        "colab": {
          "base_uri": "https://localhost:8080/",
          "height": 1000
        },
        "outputId": "2325ac4c-0b67-48db-cb8a-5a3484eb972f"
      },
      "source": [
        "model.fit(features_set, labels, epochs = 70, batch_size = 32)\n"
      ],
      "execution_count": 459,
      "outputs": [
        {
          "output_type": "stream",
          "text": [
            "Epoch 1/70\n",
            "807/807 [==============================] - 5s 6ms/step - loss: 0.0025\n",
            "Epoch 2/70\n",
            "807/807 [==============================] - 3s 4ms/step - loss: 5.8870e-04\n",
            "Epoch 3/70\n",
            "807/807 [==============================] - 3s 3ms/step - loss: 5.2669e-04\n",
            "Epoch 4/70\n",
            "807/807 [==============================] - 3s 3ms/step - loss: 4.7074e-04\n",
            "Epoch 5/70\n",
            "807/807 [==============================] - 3s 4ms/step - loss: 4.5861e-04\n",
            "Epoch 6/70\n",
            "807/807 [==============================] - 3s 4ms/step - loss: 4.4717e-04\n",
            "Epoch 7/70\n",
            "807/807 [==============================] - 3s 4ms/step - loss: 4.5138e-04\n",
            "Epoch 8/70\n",
            "807/807 [==============================] - 3s 3ms/step - loss: 5.2546e-04\n",
            "Epoch 9/70\n",
            "807/807 [==============================] - 2s 3ms/step - loss: 6.5825e-04\n",
            "Epoch 10/70\n",
            "807/807 [==============================] - 3s 3ms/step - loss: 4.4772e-04\n",
            "Epoch 11/70\n",
            "807/807 [==============================] - 3s 4ms/step - loss: 4.7394e-04\n",
            "Epoch 12/70\n",
            "807/807 [==============================] - 3s 3ms/step - loss: 4.4379e-04\n",
            "Epoch 13/70\n",
            "807/807 [==============================] - 3s 3ms/step - loss: 3.7436e-04\n",
            "Epoch 14/70\n",
            "807/807 [==============================] - 3s 3ms/step - loss: 3.5993e-04\n",
            "Epoch 15/70\n",
            "807/807 [==============================] - 3s 3ms/step - loss: 3.4421e-04\n",
            "Epoch 16/70\n",
            "807/807 [==============================] - 3s 3ms/step - loss: 4.7388e-04\n",
            "Epoch 17/70\n",
            "807/807 [==============================] - 3s 3ms/step - loss: 3.7537e-04\n",
            "Epoch 18/70\n",
            "807/807 [==============================] - 2s 3ms/step - loss: 3.9796e-04\n",
            "Epoch 19/70\n",
            "807/807 [==============================] - 2s 3ms/step - loss: 3.1077e-04\n",
            "Epoch 20/70\n",
            "807/807 [==============================] - 3s 3ms/step - loss: 3.5392e-04\n",
            "Epoch 21/70\n",
            "807/807 [==============================] - 3s 3ms/step - loss: 3.3245e-04\n",
            "Epoch 22/70\n",
            "807/807 [==============================] - 2s 3ms/step - loss: 3.6086e-04\n",
            "Epoch 23/70\n",
            "807/807 [==============================] - 2s 3ms/step - loss: 2.8018e-04\n",
            "Epoch 24/70\n",
            "807/807 [==============================] - 2s 3ms/step - loss: 3.1891e-04\n",
            "Epoch 25/70\n",
            "807/807 [==============================] - 2s 3ms/step - loss: 4.4034e-04\n",
            "Epoch 26/70\n",
            "807/807 [==============================] - 2s 3ms/step - loss: 3.6554e-04\n",
            "Epoch 27/70\n",
            "807/807 [==============================] - 3s 3ms/step - loss: 3.1034e-04\n",
            "Epoch 28/70\n",
            "807/807 [==============================] - 3s 3ms/step - loss: 2.6363e-04\n",
            "Epoch 29/70\n",
            "807/807 [==============================] - 3s 3ms/step - loss: 3.7468e-04\n",
            "Epoch 30/70\n",
            "807/807 [==============================] - 2s 3ms/step - loss: 3.5553e-04\n",
            "Epoch 31/70\n",
            "807/807 [==============================] - 2s 3ms/step - loss: 3.4664e-04\n",
            "Epoch 32/70\n",
            "807/807 [==============================] - 3s 3ms/step - loss: 2.9570e-04\n",
            "Epoch 33/70\n",
            "807/807 [==============================] - 3s 3ms/step - loss: 3.6680e-04\n",
            "Epoch 34/70\n",
            "807/807 [==============================] - 3s 3ms/step - loss: 3.0448e-04\n",
            "Epoch 35/70\n",
            "807/807 [==============================] - 2s 3ms/step - loss: 2.9839e-04\n",
            "Epoch 36/70\n",
            "807/807 [==============================] - 3s 3ms/step - loss: 2.9067e-04\n",
            "Epoch 37/70\n",
            "807/807 [==============================] - 3s 3ms/step - loss: 3.0259e-04\n",
            "Epoch 38/70\n",
            "807/807 [==============================] - 3s 3ms/step - loss: 3.4133e-04\n",
            "Epoch 39/70\n",
            "807/807 [==============================] - 3s 3ms/step - loss: 2.9287e-04\n",
            "Epoch 40/70\n",
            "807/807 [==============================] - 3s 3ms/step - loss: 3.3038e-04\n",
            "Epoch 41/70\n",
            "807/807 [==============================] - 3s 3ms/step - loss: 3.2109e-04\n",
            "Epoch 42/70\n",
            "807/807 [==============================] - 3s 3ms/step - loss: 2.5603e-04\n",
            "Epoch 43/70\n",
            "807/807 [==============================] - 3s 3ms/step - loss: 2.8825e-04\n",
            "Epoch 44/70\n",
            "807/807 [==============================] - 3s 3ms/step - loss: 3.1376e-04\n",
            "Epoch 45/70\n",
            "807/807 [==============================] - 3s 3ms/step - loss: 2.2369e-04\n",
            "Epoch 46/70\n",
            "807/807 [==============================] - 3s 3ms/step - loss: 3.6094e-04\n",
            "Epoch 47/70\n",
            "807/807 [==============================] - 3s 3ms/step - loss: 2.9275e-04\n",
            "Epoch 48/70\n",
            "807/807 [==============================] - 3s 3ms/step - loss: 2.3540e-04\n",
            "Epoch 49/70\n",
            "807/807 [==============================] - 3s 3ms/step - loss: 3.0560e-04\n",
            "Epoch 50/70\n",
            "807/807 [==============================] - 3s 3ms/step - loss: 3.0106e-04\n",
            "Epoch 51/70\n",
            "807/807 [==============================] - 3s 3ms/step - loss: 2.4671e-04\n",
            "Epoch 52/70\n",
            "807/807 [==============================] - 3s 3ms/step - loss: 2.4883e-04\n",
            "Epoch 53/70\n",
            "807/807 [==============================] - 3s 3ms/step - loss: 2.5913e-04\n",
            "Epoch 54/70\n",
            "807/807 [==============================] - 3s 3ms/step - loss: 2.3190e-04\n",
            "Epoch 55/70\n",
            "807/807 [==============================] - 3s 3ms/step - loss: 2.3798e-04\n",
            "Epoch 56/70\n",
            "807/807 [==============================] - 3s 3ms/step - loss: 2.0607e-04\n",
            "Epoch 57/70\n",
            "807/807 [==============================] - 3s 3ms/step - loss: 2.1259e-04\n",
            "Epoch 58/70\n",
            "807/807 [==============================] - 3s 3ms/step - loss: 2.3393e-04\n",
            "Epoch 59/70\n",
            "807/807 [==============================] - 3s 3ms/step - loss: 1.9919e-04\n",
            "Epoch 60/70\n",
            "807/807 [==============================] - 3s 3ms/step - loss: 2.4882e-04\n",
            "Epoch 61/70\n",
            "807/807 [==============================] - 3s 3ms/step - loss: 2.4862e-04\n",
            "Epoch 62/70\n",
            "807/807 [==============================] - 3s 3ms/step - loss: 2.1338e-04\n",
            "Epoch 63/70\n",
            "807/807 [==============================] - 3s 3ms/step - loss: 2.0733e-04\n",
            "Epoch 64/70\n",
            "807/807 [==============================] - 3s 3ms/step - loss: 2.6751e-04\n",
            "Epoch 65/70\n",
            "807/807 [==============================] - 3s 3ms/step - loss: 2.3218e-04\n",
            "Epoch 66/70\n",
            "807/807 [==============================] - 3s 3ms/step - loss: 2.0051e-04\n",
            "Epoch 67/70\n",
            "807/807 [==============================] - 3s 3ms/step - loss: 1.8709e-04\n",
            "Epoch 68/70\n",
            "807/807 [==============================] - 3s 3ms/step - loss: 1.6839e-04\n",
            "Epoch 69/70\n",
            "807/807 [==============================] - 3s 3ms/step - loss: 1.5928e-04\n",
            "Epoch 70/70\n",
            "807/807 [==============================] - 3s 3ms/step - loss: 1.8046e-04\n"
          ],
          "name": "stdout"
        },
        {
          "output_type": "execute_result",
          "data": {
            "text/plain": [
              "<keras.callbacks.callbacks.History at 0x7fb34d8f8ac8>"
            ]
          },
          "metadata": {
            "tags": []
          },
          "execution_count": 459
        }
      ]
    },
    {
      "cell_type": "code",
      "metadata": {
        "id": "Zzz1wrlwS4tU",
        "colab_type": "code",
        "colab": {}
      },
      "source": [
        "item_testing_data=pd.read_csv('/content/The Checked Shirt (White).csv')\n",
        "item_training_data=pd.read_csv('/content/The Checked Shirt (White).csv')"
      ],
      "execution_count": 460,
      "outputs": []
    },
    {
      "cell_type": "code",
      "metadata": {
        "id": "chWMTEZQTfdB",
        "colab_type": "code",
        "colab": {
          "base_uri": "https://localhost:8080/",
          "height": 319
        },
        "outputId": "0499582c-eab9-4aa5-ac72-a68bb0dc346b"
      },
      "source": [
        "item_testing_data.head()\n",
        "uni_data=item_testing_data['Price']\n",
        "uni_data.index=item_testing_data['Date']\n",
        "uni_data.plot(subplots=True)"
      ],
      "execution_count": 461,
      "outputs": [
        {
          "output_type": "execute_result",
          "data": {
            "text/plain": [
              "array([<matplotlib.axes._subplots.AxesSubplot object at 0x7fb34d3dc860>],\n",
              "      dtype=object)"
            ]
          },
          "metadata": {
            "tags": []
          },
          "execution_count": 461
        },
        {
          "output_type": "display_data",
          "data": {
            "image/png": "[encoded data removed]",
            "text/plain": [
              "<Figure size 432x288 with 1 Axes>"
            ]
          },
          "metadata": {
            "tags": [],
            "needs_background": "light"
          }
        }
      ]
    },
    {
      "cell_type": "code",
      "metadata": {
        "id": "PQzD7CTwTg8q",
        "colab_type": "code",
        "colab": {
          "base_uri": "https://localhost:8080/",
          "height": 255
        },
        "outputId": "5155aec7-1038-4d4c-bfd8-17faf6d105fc"
      },
      "source": [
        "item_training_data=item_training_data.iloc[:Train_Split,2:]\n",
        "item_testing_data=item_testing_data.iloc[Train_Split:,2:]\n",
        "# item_trianing_data=scaler.transform(item_training_data)\n",
        "# item_testing_data=scaler.transform(item_testing_data)\n",
        "print(item_testing_data)"
      ],
      "execution_count": 462,
      "outputs": [
        {
          "output_type": "stream",
          "text": [
            "         Price  Volume\n",
            "847   0.064000      46\n",
            "848   0.064000      58\n",
            "849   0.067000      95\n",
            "850   0.073000      61\n",
            "851   0.071000      43\n",
            "...        ...     ...\n",
            "1054  0.039464      32\n",
            "1055  0.033448      23\n",
            "1056  0.032442      29\n",
            "1057  0.035326      29\n",
            "1058  0.030330      31\n",
            "\n",
            "[212 rows x 2 columns]\n"
          ],
          "name": "stdout"
        }
      ]
    },
    {
      "cell_type": "code",
      "metadata": {
        "id": "_IJ1yB1ZTnXh",
        "colab_type": "code",
        "colab": {}
      },
      "source": [
        "steam_total_data=pd.concat((item_testing_data,item_testing_data),axis=0)"
      ],
      "execution_count": 463,
      "outputs": []
    },
    {
      "cell_type": "code",
      "metadata": {
        "id": "q3PanMuKXXw9",
        "colab_type": "code",
        "colab": {
          "base_uri": "https://localhost:8080/",
          "height": 34
        },
        "outputId": "ab54af5c-46e6-4605-de65-b313e213d999"
      },
      "source": [
        "test_inputs = steam_total_data[len(steam_total_data) - len(item_training_data) - 40:].values\n",
        "print(len(test_inputs))"
      ],
      "execution_count": 464,
      "outputs": [
        {
          "output_type": "stream",
          "text": [
            "424\n"
          ],
          "name": "stdout"
        }
      ]
    },
    {
      "cell_type": "code",
      "metadata": {
        "id": "-LlwRrHfZSSA",
        "colab_type": "code",
        "colab": {}
      },
      "source": [
        "test_inputs = test_inputs.reshape(-1,2)\n",
        "test_inputs = scaler.transform(test_inputs)"
      ],
      "execution_count": 465,
      "outputs": []
    },
    {
      "cell_type": "code",
      "metadata": {
        "id": "TAWEGF7nZzQM",
        "colab_type": "code",
        "colab": {
          "base_uri": "https://localhost:8080/",
          "height": 34
        },
        "outputId": "ef3e821e-b9e5-45db-a551-60d3794e0b9e"
      },
      "source": [
        "test_features = []\n",
        "for i in range(40, 212):\n",
        "    test_features.append(test_inputs[i-40:i, :])\n",
        "print(len(test_features))"
      ],
      "execution_count": 466,
      "outputs": [
        {
          "output_type": "stream",
          "text": [
            "172\n"
          ],
          "name": "stdout"
        }
      ]
    },
    {
      "cell_type": "code",
      "metadata": {
        "id": "I91IfyZfaLWW",
        "colab_type": "code",
        "colab": {
          "base_uri": "https://localhost:8080/",
          "height": 34
        },
        "outputId": "8fdd6d27-b08e-407a-eb3e-539cdbcba910"
      },
      "source": [
        "test_features = np.array(test_features)\n",
        "test_features = np.reshape(test_features, (test_features.shape[0], test_features.shape[1], 2))\n",
        "print(test_features.shape)"
      ],
      "execution_count": 467,
      "outputs": [
        {
          "output_type": "stream",
          "text": [
            "(172, 40, 2)\n"
          ],
          "name": "stdout"
        }
      ]
    },
    {
      "cell_type": "code",
      "metadata": {
        "id": "wY-qW9WcaQzH",
        "colab_type": "code",
        "colab": {
          "base_uri": "https://localhost:8080/",
          "height": 34
        },
        "outputId": "c9ff37cf-e0ff-4e2f-e022-12c0307c3dcc"
      },
      "source": [
        "predictions = model.predict(test_features)\n",
        "\n",
        "# print(test_inputs.shape)\n",
        "predictions=np.append(predictions[:,:1],test_inputs[:172,1:],axis=1)\n",
        "# print(predictions.shape,type(predictions))\n",
        "predictions = scaler.inverse_transform(predictions)\n",
        "predictions=predictions[:,:1]\n",
        "print(predictions.shape)"
      ],
      "execution_count": 468,
      "outputs": [
        {
          "output_type": "stream",
          "text": [
            "(172, 1)\n"
          ],
          "name": "stdout"
        }
      ]
    },
    {
      "cell_type": "code",
      "metadata": {
        "id": "O3fphTCKal-s",
        "colab_type": "code",
        "colab": {}
      },
      "source": [
        "item_testing_data=item_testing_data.iloc[40:,:1]"
      ],
      "execution_count": 470,
      "outputs": []
    },
    {
      "cell_type": "code",
      "metadata": {
        "id": "WKcOnAtIaU81",
        "colab_type": "code",
        "colab": {
          "base_uri": "https://localhost:8080/",
          "height": 421
        },
        "outputId": "af57034f-e3cc-4b69-c111-3f88745fecdf"
      },
      "source": [
        "plt.figure(figsize=(10,6))\n",
        "print(predictions.shape,item_testing_data.shape)\n",
        "plt.plot(item_testing_data.values.flatten(), color='blue', label='Actual Item Price')\n",
        "plt.plot(predictions.flatten() , color='red', label='Predicted Item Price')\n",
        "plt.title('Steam Price Prediction')\n",
        "plt.xlabel('Date')\n",
        "plt.ylabel('Steam Stock Price')\n",
        "plt.legend()\n",
        "plt.show()"
      ],
      "execution_count": 472,
      "outputs": [
        {
          "output_type": "stream",
          "text": [
            "(172, 1) (172, 1)\n"
          ],
          "name": "stdout"
        },
        {
          "output_type": "display_data",
          "data": {
            "image/png": "[encoded data removed]",
            "text/plain": [
              "<Figure size 720x432 with 1 Axes>"
            ]
          },
          "metadata": {
            "tags": [],
            "needs_background": "light"
          }
        }
      ]
    },
    {
      "cell_type": "code",
      "metadata": {
        "id": "RDMFQU0n31Z-",
        "colab_type": "code",
        "colab": {}
      },
      "source": [
        ""
      ],
      "execution_count": null,
      "outputs": []
    },
    {
      "cell_type": "code",
      "metadata": {
        "id": "FApX4Njuane_",
        "colab_type": "code",
        "colab": {
          "base_uri": "https://localhost:8080/",
          "height": 255
        },
        "outputId": "8535c302-b7c1-4444-cd8a-df3ca7d5e8c7"
      },
      "source": [
        "print(item_testing_data)"
      ],
      "execution_count": 471,
      "outputs": [
        {
          "output_type": "stream",
          "text": [
            "         Price\n",
            "887   0.072000\n",
            "888   0.073000\n",
            "889   0.068000\n",
            "890   0.070000\n",
            "891   0.065000\n",
            "...        ...\n",
            "1054  0.039464\n",
            "1055  0.033448\n",
            "1056  0.032442\n",
            "1057  0.035326\n",
            "1058  0.030330\n",
            "\n",
            "[172 rows x 1 columns]\n"
          ],
          "name": "stdout"
        }
      ]
    },
    {
      "cell_type": "code",
      "metadata": {
        "id": "AJ2yxbQWyvk1",
        "colab_type": "code",
        "colab": {}
      },
      "source": [
        ""
      ],
      "execution_count": 471,
      "outputs": []
    }
  ]
}